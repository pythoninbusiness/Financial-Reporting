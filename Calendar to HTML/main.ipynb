{
 "cells": [
  {
   "cell_type": "code",
   "execution_count": 1,
   "metadata": {},
   "outputs": [],
   "source": [
    "import pandas as pd\n",
    "import datetime as dt\n",
    "import os, re"
   ]
  },
  {
   "cell_type": "code",
   "execution_count": 2,
   "metadata": {},
   "outputs": [
    {
     "data": {
      "text/plain": [
       "['.ipynb_checkpoints',\n",
       " 'Calendar to List.xlsx',\n",
       " 'main.ipynb',\n",
       " 'tasks_outline.html']"
      ]
     },
     "execution_count": 2,
     "metadata": {},
     "output_type": "execute_result"
    }
   ],
   "source": [
    "os.listdir()"
   ]
  },
  {
   "cell_type": "code",
   "execution_count": 3,
   "metadata": {},
   "outputs": [],
   "source": [
    "file_name = \"Calendar to list.xlsx\"\n",
    "date_format = \"%A, %B %d\""
   ]
  },
  {
   "cell_type": "code",
   "execution_count": 4,
   "metadata": {},
   "outputs": [],
   "source": [
    "df = pd.read_excel(file_name)"
   ]
  },
  {
   "cell_type": "code",
   "execution_count": 5,
   "metadata": {},
   "outputs": [
    {
     "data": {
      "text/html": [
       "<div>\n",
       "<style scoped>\n",
       "    .dataframe tbody tr th:only-of-type {\n",
       "        vertical-align: middle;\n",
       "    }\n",
       "\n",
       "    .dataframe tbody tr th {\n",
       "        vertical-align: top;\n",
       "    }\n",
       "\n",
       "    .dataframe thead th {\n",
       "        text-align: right;\n",
       "    }\n",
       "</style>\n",
       "<table border=\"1\" class=\"dataframe\">\n",
       "  <thead>\n",
       "    <tr style=\"text-align: right;\">\n",
       "      <th></th>\n",
       "      <th>Unnamed: 0</th>\n",
       "      <th>2023-08-08 00:00:00</th>\n",
       "      <th>2023-08-09 00:00:00</th>\n",
       "      <th>2023-09-01 00:00:00</th>\n",
       "      <th>2023-09-02 00:00:00</th>\n",
       "    </tr>\n",
       "  </thead>\n",
       "  <tbody>\n",
       "    <tr>\n",
       "      <th>0</th>\n",
       "      <td>Creative</td>\n",
       "      <td>Creative meeting to kick off</td>\n",
       "      <td>NaN</td>\n",
       "      <td>NaN</td>\n",
       "      <td>NaN</td>\n",
       "    </tr>\n",
       "    <tr>\n",
       "      <th>1</th>\n",
       "      <td>Development</td>\n",
       "      <td>Developer to sign off on idea\\n\\nAgree upon po...</td>\n",
       "      <td>Milestone #1 for developers</td>\n",
       "      <td>NaN</td>\n",
       "      <td>Milestone #2</td>\n",
       "    </tr>\n",
       "    <tr>\n",
       "      <th>2</th>\n",
       "      <td>Review</td>\n",
       "      <td>NaN</td>\n",
       "      <td>NaN</td>\n",
       "      <td>Review Milestone #1</td>\n",
       "      <td>NaN</td>\n",
       "    </tr>\n",
       "    <tr>\n",
       "      <th>3</th>\n",
       "      <td>QA</td>\n",
       "      <td>NaN</td>\n",
       "      <td>NaN</td>\n",
       "      <td>NaN</td>\n",
       "      <td>QA Milestone #1</td>\n",
       "    </tr>\n",
       "  </tbody>\n",
       "</table>\n",
       "</div>"
      ],
      "text/plain": [
       "    Unnamed: 0                                2023-08-08 00:00:00  \\\n",
       "0     Creative                       Creative meeting to kick off   \n",
       "1  Development  Developer to sign off on idea\\n\\nAgree upon po...   \n",
       "2       Review                                                NaN   \n",
       "3           QA                                                NaN   \n",
       "\n",
       "           2023-08-09 00:00:00  2023-09-01 00:00:00 2023-09-02 00:00:00  \n",
       "0                          NaN                  NaN                 NaN  \n",
       "1  Milestone #1 for developers                  NaN        Milestone #2  \n",
       "2                          NaN  Review Milestone #1                 NaN  \n",
       "3                          NaN                  NaN     QA Milestone #1  "
      ]
     },
     "execution_count": 5,
     "metadata": {},
     "output_type": "execute_result"
    }
   ],
   "source": [
    "df"
   ]
  },
  {
   "cell_type": "code",
   "execution_count": 6,
   "metadata": {},
   "outputs": [
    {
     "data": {
      "text/plain": [
       "0                         Creative meeting to kick off\n",
       "1    Developer to sign off on idea\\n\\nAgree upon po...\n",
       "Name: 2023-08-08 00:00:00, dtype: object"
      ]
     },
     "execution_count": 6,
     "metadata": {},
     "output_type": "execute_result"
    }
   ],
   "source": [
    "df[df.columns[1]].dropna()"
   ]
  },
  {
   "cell_type": "code",
   "execution_count": 7,
   "metadata": {},
   "outputs": [],
   "source": [
    "date_columns = df.columns[1:]\n",
    "html_outline = \"<div><ul>\"\n",
    "for date in date_columns:\n",
    "    \n",
    "    html_outline += f\"<li><h1>{date.strftime(date_format)}</h1>\\n<ul>\\n\"\n",
    "    \n",
    "    for task in df[date].dropna():\n",
    "        subtasks = re.split(r\"\\n+\", task)\n",
    "        for subtask in subtasks:\n",
    "            html_outline += f\"<li>{subtask}</li>\\n\"\n",
    "            \n",
    "    html_outline += \"</ul></li>\\n\"\n",
    "html_outline += \"</ul></div>\""
   ]
  },
  {
   "cell_type": "code",
   "execution_count": 8,
   "metadata": {},
   "outputs": [
    {
     "name": "stdout",
     "output_type": "stream",
     "text": [
      "HTML outline generated successfully!\n"
     ]
    }
   ],
   "source": [
    "with open(\"tasks_outline.html\", \"w\") as f:\n",
    "    f.write(html_outline)\n",
    "\n",
    "print(\"HTML outline generated successfully!\")"
   ]
  },
  {
   "cell_type": "code",
   "execution_count": null,
   "metadata": {},
   "outputs": [],
   "source": []
  },
  {
   "cell_type": "code",
   "execution_count": null,
   "metadata": {},
   "outputs": [],
   "source": []
  }
 ],
 "metadata": {
  "kernelspec": {
   "display_name": "Python 3 (ipykernel)",
   "language": "python",
   "name": "python3"
  },
  "language_info": {
   "codemirror_mode": {
    "name": "ipython",
    "version": 3
   },
   "file_extension": ".py",
   "mimetype": "text/x-python",
   "name": "python",
   "nbconvert_exporter": "python",
   "pygments_lexer": "ipython3",
   "version": "3.9.12"
  }
 },
 "nbformat": 4,
 "nbformat_minor": 2
}
